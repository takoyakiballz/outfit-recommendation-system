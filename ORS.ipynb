{
  "nbformat": 4,
  "nbformat_minor": 5,
  "metadata": {
    "colab": {
      "provenance": [],
      "include_colab_link": true
    },
    "kernelspec": {
      "display_name": "Python 3",
      "language": "python",
      "name": "python3"
    },
    "language_info": {
      "codemirror_mode": {
        "name": "ipython",
        "version": 3
      },
      "file_extension": ".py",
      "mimetype": "text/x-python",
      "name": "python",
      "nbconvert_exporter": "python",
      "pygments_lexer": "ipython3",
      "version": "3.7.10"
    }
  },
  "cells": [
    {
      "cell_type": "markdown",
      "metadata": {
        "id": "view-in-github",
        "colab_type": "text"
      },
      "source": [
        "<a href=\"https://colab.research.google.com/github/takoyakiballz/outfit-recommendation-system/blob/main/ORS.ipynb\" target=\"_parent\"><img src=\"https://colab.research.google.com/assets/colab-badge.svg\" alt=\"Open In Colab\"/></a>"
      ]
    },
    {
      "cell_type": "code",
      "metadata": {
        "id": "4cdcb03c"
      },
      "source": [
        "from sklearn.cluster import KMeans\n",
        "import matplotlib.pyplot as plt\n",
        "import numpy as np\n",
        "import cv2\n",
        "from collections import Counter\n",
        "from math import sqrt\n",
        "from PIL import ImageColor\n",
        "from PIL import Image\n",
        "import os\n",
        "import glob\n",
        "#from skimage.color import rgb2lab, deltaE_cie76"
      ],
      "id": "4cdcb03c",
      "execution_count": null,
      "outputs": []
    },
    {
      "cell_type": "code",
      "metadata": {
        "colab": {
          "base_uri": "https://localhost:8080/",
          "height": 232
        },
        "id": "11ec2a86",
        "scrolled": true,
        "outputId": "2ff80e83-7707-47c4-a480-79788ef3bcea"
      },
      "source": [
        "\n",
        "images = []\n",
        "for filename in os.listdir('/image'):\n",
        "    if filename.endswith(\".JPG\") or filename.endswith(\".jpg\"):\n",
        "         # print(os.path.join(directory, filename))\n",
        "        images.append(\"/image/\"+filename)\n",
        "    else:\n",
        "        continue\n",
        "\n",
        "#print(\"The type of this input is {}\".format(type(image)))\n",
        "#print(\"Shape: {}\".format(image.shape))\n",
        "#plt.imshow(image)\n",
        "print(images)"
      ],
      "id": "11ec2a86",
      "execution_count": null,
      "outputs": [
        {
          "output_type": "error",
          "ename": "FileNotFoundError",
          "evalue": "ignored",
          "traceback": [
            "\u001b[0;31m---------------------------------------------------------------------------\u001b[0m",
            "\u001b[0;31mFileNotFoundError\u001b[0m                         Traceback (most recent call last)",
            "\u001b[0;32m<ipython-input-2-dbd493610e20>\u001b[0m in \u001b[0;36m<module>\u001b[0;34m\u001b[0m\n\u001b[1;32m      1\u001b[0m \u001b[0mimages\u001b[0m \u001b[0;34m=\u001b[0m \u001b[0;34m[\u001b[0m\u001b[0;34m]\u001b[0m\u001b[0;34m\u001b[0m\u001b[0;34m\u001b[0m\u001b[0m\n\u001b[0;32m----> 2\u001b[0;31m \u001b[0;32mfor\u001b[0m \u001b[0mfilename\u001b[0m \u001b[0;32min\u001b[0m \u001b[0mos\u001b[0m\u001b[0;34m.\u001b[0m\u001b[0mlistdir\u001b[0m\u001b[0;34m(\u001b[0m\u001b[0;34m'/image'\u001b[0m\u001b[0;34m)\u001b[0m\u001b[0;34m:\u001b[0m\u001b[0;34m\u001b[0m\u001b[0;34m\u001b[0m\u001b[0m\n\u001b[0m\u001b[1;32m      3\u001b[0m     \u001b[0;32mif\u001b[0m \u001b[0mfilename\u001b[0m\u001b[0;34m.\u001b[0m\u001b[0mendswith\u001b[0m\u001b[0;34m(\u001b[0m\u001b[0;34m\".JPG\"\u001b[0m\u001b[0;34m)\u001b[0m \u001b[0;32mor\u001b[0m \u001b[0mfilename\u001b[0m\u001b[0;34m.\u001b[0m\u001b[0mendswith\u001b[0m\u001b[0;34m(\u001b[0m\u001b[0;34m\".jpg\"\u001b[0m\u001b[0;34m)\u001b[0m\u001b[0;34m:\u001b[0m\u001b[0;34m\u001b[0m\u001b[0;34m\u001b[0m\u001b[0m\n\u001b[1;32m      4\u001b[0m          \u001b[0;31m# print(os.path.join(directory, filename))\u001b[0m\u001b[0;34m\u001b[0m\u001b[0;34m\u001b[0m\u001b[0;34m\u001b[0m\u001b[0m\n\u001b[1;32m      5\u001b[0m         \u001b[0mimages\u001b[0m\u001b[0;34m.\u001b[0m\u001b[0mappend\u001b[0m\u001b[0;34m(\u001b[0m\u001b[0;34m\"/image/\"\u001b[0m\u001b[0;34m+\u001b[0m\u001b[0mfilename\u001b[0m\u001b[0;34m)\u001b[0m\u001b[0;34m\u001b[0m\u001b[0;34m\u001b[0m\u001b[0m\n",
            "\u001b[0;31mFileNotFoundError\u001b[0m: [Errno 2] No such file or directory: '/image'"
          ]
        }
      ]
    },
    {
      "cell_type": "code",
      "metadata": {
        "id": "638695bd"
      },
      "source": [
        "def RGB2HEX(color):\n",
        "    return \"#{:02x}{:02x}{:02x}\".format(int(color[0]), int(color[1]), int(color[2]))\n",
        "\n",
        ""
      ],
      "id": "638695bd",
      "execution_count": null,
      "outputs": []
    },
    {
      "cell_type": "code",
      "metadata": {
        "id": "9e59b445"
      },
      "source": [
        "def get_image(image_path):\n",
        "    image = cv2.imread(image_path)\n",
        "    image = cv2.cvtColor(image, cv2.COLOR_BGR2RGB)\n",
        "    return image"
      ],
      "id": "9e59b445",
      "execution_count": null,
      "outputs": []
    },
    {
      "cell_type": "code",
      "metadata": {
        "id": "98f3ecc7"
      },
      "source": [
        "def get_colors(image, number_of_colors, show_chart):\n",
        "\n",
        "    modified_image = cv2.resize(image, (600, 400), interpolation = cv2.INTER_AREA)\n",
        "    modified_image = modified_image.reshape(modified_image.shape[0]*modified_image.shape[1], 3)\n",
        "\n",
        "    clf = KMeans(n_clusters = number_of_colors)\n",
        "    labels = clf.fit_predict(modified_image)\n",
        "\n",
        "    counts = Counter(labels)\n",
        "\n",
        "    center_colors = clf.cluster_centers_\n",
        "    # We get ordered colors by iterating through the keys\n",
        "    ordered_colors = [center_colors[i]/255 for i in counts.keys()]\n",
        "    hex_colors = [RGB2HEX(ordered_colors[i]*255) for i in counts.keys()]\n",
        "    rgb_colors = [ordered_colors[i]*255 for i in counts.keys()]\n",
        "\n",
        "\n",
        "     # if (show_chart):\n",
        "\n",
        "     #plt.figure(figsize = (8, 6))\n",
        "     #   plt.pie(counts.values(), labels = hex_colors, colors = ordered_colors)\n",
        "\n",
        "    return hex_colors"
      ],
      "id": "98f3ecc7",
      "execution_count": null,
      "outputs": []
    },
    {
      "cell_type": "code",
      "metadata": {
        "id": "2fe83ff1",
        "scrolled": true
      },
      "source": [
        "colors = []\n",
        "\n",
        "for i in range(len(images)):\n",
        "  color = get_colors(get_image(images[i]), 1, True)\n",
        "\n",
        "  colors.append(color)\n",
        "\n",
        "#data = np.append(image, color, axis=0)\n",
        "\n",
        "\n",
        "labels = [1,0,1,1,1,1,2,3,1,0,0,2]\n",
        "colors = np.array(colors).flatten()\n",
        "\n",
        "\n",
        "print((images))\n",
        "print((colors))\n",
        "print((labels))"
      ],
      "id": "2fe83ff1",
      "execution_count": null,
      "outputs": []
    },
    {
      "cell_type": "code",
      "metadata": {
        "id": "konQLQxlFvrN"
      },
      "source": [],
      "id": "konQLQxlFvrN",
      "execution_count": null,
      "outputs": []
    },
    {
      "cell_type": "code",
      "metadata": {
        "id": "018f175d"
      },
      "source": [
        "lables = [1,0,1,1,1,1,2,3,1,0,0,2]\n",
        "def type_sort(label=[]):\n",
        "    tops = []\n",
        "    bottom = []\n",
        "    dress = []\n",
        "    for i in range(len(label)):\n",
        "        if(label[i]==0 or label[i]==2 or label[i]==4 or label[i]==6):\n",
        "            tops.append(label[i])\n",
        "        elif(label[i]==1):\n",
        "            bottom.append(label[i])\n",
        "        elif(label[i] == 3):\n",
        "            dress.append(label[i])\n",
        "    return tops,bottom,dress\n",
        "\n",
        "tops = type_sort(lables)[0]\n",
        "bottom = type_sort(lables)[1]\n",
        "dress = type_sort(lables)[2]\n",
        "#print(tops)\n",
        "labels = np.array(lables)\n",
        "labels = (labels.reshape(12,1)).flatten()\n",
        "colors = colors.reshape(12,1).flatten()\n",
        "#print(colors)\n",
        "#print(labels)\n",
        "#data = np.concatenate((labels.reshape(12,1),colors.reshape(12,1)),axis=0)\n",
        "#print(data)"
      ],
      "id": "018f175d",
      "execution_count": null,
      "outputs": []
    },
    {
      "cell_type": "code",
      "metadata": {
        "id": "591f36ef"
      },
      "source": [
        "color_set = []\n",
        "\n",
        "tops = type_sort(lables)[0]\n",
        "bottom = type_sort(lables)[1]\n",
        "def color_match(lables = [],colors=[]):\n",
        "    for i in range(10):\n",
        "      n  = np.random.randint(0,12)\n",
        "      k = np.random.randint(0,12)\n",
        "      if(lables[n]!=lables[k]):\n",
        "        match = [colors[n],colors[k]]\n",
        "        color_set.append(match)\n",
        "\n",
        "      else:\n",
        "        continue\n",
        "\n",
        "    return color_set\n",
        "\n",
        "color_set = color_match(lables,colors)\n",
        "def pie_chart(color_set):\n",
        "  for i in range(len(color_set)):\n",
        "    x = [50,50]\n",
        "    plt.pie(x,labels = None,colors = color_set[i],startangle=90)\n",
        "    plt.show()\n",
        "\n",
        "\n",
        "pie_chart(color_set)\n"
      ],
      "id": "591f36ef",
      "execution_count": null,
      "outputs": []
    },
    {
      "cell_type": "code",
      "metadata": {
        "id": "80ee7fc5"
      },
      "source": [
        "COLORS = (\n",
        "    (255, 0, 0),\n",
        "    (0, 255, 0),\n",
        "    (0, 0, 255),\n",
        "    (255, 255, 0),\n",
        "    (0, 255, 255),\n",
        "    (128, 0, 128),\n",
        "    (150, 75, 0),\n",
        "    (255, 0, 255),\n",
        ")\n",
        "\n",
        "def checkColorDistance(rgb):\n",
        "    r, g, b = rgb\n",
        "    for color in COLORS:\n",
        "        cr, cg, cb = color\n",
        "        color_diff = sqrt(abs(r - cr)**2 + abs(g - cg)**2 + abs(b - cb)**2)\n",
        "        if(color_diff<20):\n",
        "            return False\n",
        "        print(color_diff)\n",
        "    return True\n",
        "\n",
        "checkColorDistance(ImageColor.getcolor(color, \"RGB\"))\n",
        "\n"
      ],
      "id": "80ee7fc5",
      "execution_count": null,
      "outputs": []
    },
    {
      "cell_type": "code",
      "metadata": {
        "id": "tdT0npQlKzyc"
      },
      "source": [
        "from google.colab import drive\n",
        "drive.mount('/content/drive')"
      ],
      "id": "tdT0npQlKzyc",
      "execution_count": null,
      "outputs": []
    },
    {
      "cell_type": "code",
      "metadata": {
        "id": "c1d2bdfd"
      },
      "source": [
        "def recommender(data = []):\n",
        "    norec_top = []\n",
        "    norec_bot = []\n",
        "    for item in data[0]:\n",
        "        if checkColorDistance(ImageColor.getcolor(item[0], \"RGB\")) < 20:\n",
        "            norec_top.append(item)\n",
        "    for item in data[1]:\n",
        "        if checkColorDistance(ImageColor.getcolor(item[0], \"RGB\")) < 20:\n",
        "            norec_bot.append(item)\n",
        "    return norec_top,norec_bot\n",
        "recommender(data)\n"
      ],
      "id": "c1d2bdfd",
      "execution_count": null,
      "outputs": []
    }
  ]
}